{
 "cells": [
  {
   "cell_type": "code",
   "execution_count": 1,
   "id": "ad2d020b",
   "metadata": {},
   "outputs": [],
   "source": [
    "import numpy as np\n",
    "import tensorflow as tf\n",
    "import cv2\n",
    "import matplotlib.pyplot as plt\n",
    "from tensorflow.keras.models import Sequential\n",
    "from tensorflow.keras.layers import Dense, Conv2D, Dropout, Flatten, MaxPooling2D\n",
    "import pandas as pd\n",
    "\n"
   ]
  },
  {
   "cell_type": "code",
   "execution_count": 2,
   "id": "e1960ef2",
   "metadata": {},
   "outputs": [
    {
     "name": "stdout",
     "output_type": "stream",
     "text": [
      "test data: (7172, 785)      train data: (27455, 785)\n"
     ]
    }
   ],
   "source": [
    "train = pd.read_csv(\"train.csv\")\n",
    "test = pd.read_csv('test.csv')\n",
    "print('test data:',test.shape,\"    \",\"train data:\",train.shape)"
   ]
  },
  {
   "cell_type": "code",
   "execution_count": 3,
   "id": "4ba6095b",
   "metadata": {},
   "outputs": [],
   "source": [
    "ytrain = train[\"label\"].to_numpy()\n",
    "ytest = test[\"label\"].to_numpy()\n"
   ]
  },
  {
   "cell_type": "code",
   "execution_count": 4,
   "id": "1c77095d",
   "metadata": {},
   "outputs": [],
   "source": [
    "test.drop(columns = [\"label\"],inplace = True)\n",
    "train.drop(columns = [\"label\"],inplace = True)\n"
   ]
  },
  {
   "cell_type": "code",
   "execution_count": 5,
   "id": "08703c6b",
   "metadata": {},
   "outputs": [],
   "source": [
    "xtest = test.to_numpy()\n",
    "xtrain = train.to_numpy()"
   ]
  },
  {
   "cell_type": "code",
   "execution_count": 6,
   "id": "482e4ba1",
   "metadata": {},
   "outputs": [],
   "source": [
    "xtest = xtest.reshape(xtest.shape[0],28,28)\n",
    "xtrain = xtrain.reshape(xtrain.shape[0],28,28)"
   ]
  },
  {
   "cell_type": "code",
   "execution_count": 7,
   "id": "86a34ef2",
   "metadata": {},
   "outputs": [
    {
     "name": "stdout",
     "output_type": "stream",
     "text": [
      "test data: (7172, 28, 28)   (7172,)        train data: (27455, 28, 28)   (27455,)\n"
     ]
    }
   ],
   "source": [
    "print('test data:',xtest.shape,\" \",ytest.shape, \"      \",\"train data:\",xtrain.shape,\" \",ytrain.shape)"
   ]
  },
  {
   "cell_type": "code",
   "execution_count": 8,
   "id": "b68b7a35",
   "metadata": {},
   "outputs": [
    {
     "name": "stdout",
     "output_type": "stream",
     "text": [
      "(7172, 28, 28) (7172,)\n",
      "159.2910081989452\n",
      "48.76950534451021\n",
      "(7172, 28, 28, 1) (7172,)\n"
     ]
    }
   ],
   "source": [
    "print(xtest.shape,\n",
    "ytest.shape)\n",
    "\n",
    "\n",
    "xtrain = xtrain.reshape(xtrain.shape[0],28,28,1)\n",
    "xtest = xtest.reshape(xtest.shape[0],28,28,1)\n",
    "# pixel mean\n",
    "px_mean = xtrain.mean()\n",
    "print(px_mean)\n",
    "# pixels standard deviation\n",
    "px_std = xtrain.std()\n",
    "print(px_std)\n",
    "\n",
    "xtrain = (xtrain-px_mean)/px_std\n",
    "\n",
    "\n",
    "\n",
    "\n",
    "\n",
    "px_mean_test = xtest.mean()\n",
    "px_std_test = xtest.std()\n",
    "xtest = (xtest-px_mean_test)/px_std_test\n",
    "\n",
    "print(xtest.shape,\n",
    "ytest.shape)"
   ]
  },
  {
   "cell_type": "code",
   "execution_count": 9,
   "id": "80a0071c",
   "metadata": {},
   "outputs": [
    {
     "name": "stdout",
     "output_type": "stream",
     "text": [
      "(7172, 28, 28, 1) (7172,)\n"
     ]
    }
   ],
   "source": [
    "model = Sequential()\n",
    "\n",
    "model.add(Conv2D(5, kernel_size=(3,3),input_shape = (28,28,1)))# convolution layes 1 \n",
    "\n",
    "model.add(MaxPooling2D(pool_size=(2, 2)))# pooling layer for features preservation\n",
    "\n",
    "model.add(Flatten()) #converted 2d array into fully connected vector for classification on the bases of features that are preset as form of values in vector\n",
    "model.add(Dense(256, activation=tf.nn.relu))\n",
    "model.add(Dropout(0.02))\n",
    "model.add(Dense(25,activation=tf.nn.softmax))# for classification of features into 10 classes by softmax reg\n",
    "\n",
    "\n",
    "print(xtest.shape,\n",
    "ytest.shape)"
   ]
  },
  {
   "cell_type": "code",
   "execution_count": 10,
   "id": "9616bce1",
   "metadata": {},
   "outputs": [
    {
     "name": "stdout",
     "output_type": "stream",
     "text": [
      "Epoch 1/10\n",
      "858/858 [==============================] - 3s 4ms/step - loss: 0.3489 - accuracy: 0.9023\n",
      "Epoch 2/10\n",
      "858/858 [==============================] - 4s 4ms/step - loss: 0.0109 - accuracy: 0.9981\n",
      "Epoch 3/10\n",
      "858/858 [==============================] - 3s 4ms/step - loss: 9.2617e-04 - accuracy: 1.0000\n",
      "Epoch 4/10\n",
      "858/858 [==============================] - 3s 4ms/step - loss: 4.4405e-04 - accuracy: 1.0000\n",
      "Epoch 5/10\n",
      "858/858 [==============================] - 3s 4ms/step - loss: 0.0580 - accuracy: 0.9874\n",
      "Epoch 6/10\n",
      "858/858 [==============================] - 3s 4ms/step - loss: 8.5053e-04 - accuracy: 1.0000\n",
      "Epoch 7/10\n",
      "858/858 [==============================] - 3s 4ms/step - loss: 3.6865e-04 - accuracy: 1.0000\n",
      "Epoch 8/10\n",
      "858/858 [==============================] - 3s 4ms/step - loss: 0.0164 - accuracy: 0.9953\n",
      "Epoch 9/10\n",
      "858/858 [==============================] - 4s 5ms/step - loss: 5.9894e-04 - accuracy: 1.0000\n",
      "Epoch 10/10\n",
      "858/858 [==============================] - 3s 4ms/step - loss: 1.8180e-04 - accuracy: 1.0000\n",
      "(7172, 28, 28, 1) (7172,)\n"
     ]
    }
   ],
   "source": [
    "# training a model for best fitting parameters in 10 epocs\n",
    "model.compile(optimizer='adam', \n",
    "              loss='sparse_categorical_crossentropy', \n",
    "              metrics=['accuracy'])\n",
    "model.fit(x=xtrain,y=ytrain, epochs=10)\n",
    "\n",
    "print(xtest.shape,\n",
    "ytest.shape)"
   ]
  },
  {
   "cell_type": "code",
   "execution_count": 11,
   "id": "881bbecf",
   "metadata": {},
   "outputs": [
    {
     "name": "stdout",
     "output_type": "stream",
     "text": [
      "(7172, 28, 28, 1) (7172,)\n",
      "225/225 [==============================] - 0s 2ms/step - loss: 0.7913 - accuracy: 0.8461\n"
     ]
    },
    {
     "data": {
      "text/plain": [
       "[0.7913339138031006, 0.8460680246353149]"
      ]
     },
     "execution_count": 11,
     "metadata": {},
     "output_type": "execute_result"
    }
   ],
   "source": [
    "print(xtest.shape,\n",
    "ytest.shape)\n",
    "model.evaluate(xtest,ytest)"
   ]
  },
  {
   "cell_type": "code",
   "execution_count": 12,
   "id": "52ee2edb",
   "metadata": {},
   "outputs": [
    {
     "name": "stdout",
     "output_type": "stream",
     "text": [
      "label predicted 21\n",
      "label 21\n"
     ]
    },
    {
     "data": {
      "image/png": "[encoded data removed]",
      "text/plain": [
       "<Figure size 432x288 with 1 Axes>"
      ]
     },
     "metadata": {
      "needs_background": "light"
     },
     "output_type": "display_data"
    }
   ],
   "source": [
    "\n",
    "image_index = 5\n",
    "plt.imshow(xtest[image_index].reshape(28, 28),cmap='Greys')\n",
    "pred = model.predict(xtest[image_index].reshape(1, 28, 28, 1))\n",
    "print(\"label predicted\",pred.argmax())\n",
    "print(\"label\",ytest[image_index])"
   ]
  },
  {
   "cell_type": "code",
   "execution_count": null,
   "id": "7be4a8e3",
   "metadata": {},
   "outputs": [],
   "source": []
  },
  {
   "cell_type": "code",
   "execution_count": null,
   "id": "ac330219",
   "metadata": {},
   "outputs": [],
   "source": []
  },
  {
   "cell_type": "code",
   "execution_count": null,
   "id": "aba801fc",
   "metadata": {},
   "outputs": [],
   "source": []
  }
 ],
 "metadata": {
  "kernelspec": {
   "display_name": "Python 3",
   "language": "python",
   "name": "python3"
  },
  "language_info": {
   "codemirror_mode": {
    "name": "ipython",
    "version": 3
   },
   "file_extension": ".py",
   "mimetype": "text/x-python",
   "name": "python",
   "nbconvert_exporter": "python",
   "pygments_lexer": "ipython3",
   "version": "3.8.8"
  }
 },
 "nbformat": 4,
 "nbformat_minor": 5
}
